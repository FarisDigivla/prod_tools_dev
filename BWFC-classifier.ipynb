{
 "cells": [
  {
   "cell_type": "code",
   "execution_count": 4,
   "metadata": {},
   "outputs": [
    {
     "name": "stdout",
     "output_type": "stream",
     "text": [
      "HTML file saved as 'ocr_result.html'\n"
     ]
    }
   ],
   "source": [
    "from PIL import Image\n",
    "import pytesseract\n",
    "\n",
    "# Specify the path to tesseract executable (for Windows users)\n",
    "pytesseract.pytesseract.tesseract_cmd = r\"C:\\Program Files\\Tesseract-OCR\\tesseract.exe\"\n",
    "\n",
    "# Load the image\n",
    "image_path = \"2024-10-12-560-0002_News_polygon_2.png\"  # Replace with your image path\n",
    "image = Image.open(image_path)\n",
    "\n",
    "# Perform OCR using the Indonesian language\n",
    "extracted_text = pytesseract.image_to_string(image, lang=\"ind\")\n",
    "\n",
    "# Replace newlines with <br> for HTML formatting\n",
    "formatted_text = extracted_text.replace('\\n', '<br>')\n",
    "\n",
    "# Convert the extracted text into HTML format\n",
    "html_output = f\"\"\"\n",
    "<!DOCTYPE html>\n",
    "<html lang=\"id\">\n",
    "<head>\n",
    "    <meta charset=\"UTF-8\">\n",
    "    <meta name=\"viewport\" content=\"width=device-width, initial-scale=1.0\">\n",
    "    <title>OCR Result</title>\n",
    "</head>\n",
    "<body>\n",
    "    <h1>Hasil OCR</h1>\n",
    "    <p>{formatted_text}</p>\n",
    "</body>\n",
    "</html>\n",
    "\"\"\"\n",
    "\n",
    "# Save the HTML output to a file\n",
    "with open(\"ocr_result.html\", \"w\", encoding=\"utf-8\") as file:\n",
    "    file.write(html_output)\n",
    "\n",
    "print(\"HTML file saved as 'ocr_result.html'\")\n"
   ]
  },
  {
   "cell_type": "code",
   "execution_count": 1,
   "metadata": {},
   "outputs": [],
   "source": [
    "import ocrmypdf"
   ]
  },
  {
   "cell_type": "code",
   "execution_count": 2,
   "metadata": {},
   "outputs": [],
   "source": [
    "def ocr(file_path, save_path):\n",
    "   ocrmypdf.ocr(file_path, save_path)"
   ]
  },
  {
   "cell_type": "code",
   "execution_count": 3,
   "metadata": {},
   "outputs": [
    {
     "data": {
      "text/html": [
       "<pre style=\"white-space:pre;overflow-x:auto;line-height:normal;font-family:Menlo,'DejaVu Sans Mono',consolas,'Courier New',monospace\">c:\\Users\\LENOVO\\anaconda3\\envs\\prod_tools\\lib\\site-packages\\rich\\live.py:231: UserWarning: install \"ipywidgets\" for\n",
       "Jupyter support\n",
       "  warnings.warn('install \"ipywidgets\" for Jupyter support')\n",
       "</pre>\n"
      ],
      "text/plain": [
       "c:\\Users\\LENOVO\\anaconda3\\envs\\prod_tools\\lib\\site-packages\\rich\\live.py:231: UserWarning: install \"ipywidgets\" for\n",
       "Jupyter support\n",
       "  warnings.warn('install \"ipywidgets\" for Jupyter support')\n"
      ]
     },
     "metadata": {},
     "output_type": "display_data"
    },
    {
     "data": {
      "text/html": [
       "<pre style=\"white-space:pre;overflow-x:auto;line-height:normal;font-family:Menlo,'DejaVu Sans Mono',consolas,'Courier New',monospace\"></pre>\n"
      ],
      "text/plain": []
     },
     "metadata": {},
     "output_type": "display_data"
    },
    {
     "data": {
      "text/html": [
       "<pre style=\"white-space:pre;overflow-x:auto;line-height:normal;font-family:Menlo,'DejaVu Sans Mono',consolas,'Courier New',monospace\">c:\\Users\\LENOVO\\anaconda3\\envs\\prod_tools\\lib\\site-packages\\rich\\live.py:231: UserWarning: install \"ipywidgets\" for\n",
       "Jupyter support\n",
       "  warnings.warn('install \"ipywidgets\" for Jupyter support')\n",
       "</pre>\n"
      ],
      "text/plain": [
       "c:\\Users\\LENOVO\\anaconda3\\envs\\prod_tools\\lib\\site-packages\\rich\\live.py:231: UserWarning: install \"ipywidgets\" for\n",
       "Jupyter support\n",
       "  warnings.warn('install \"ipywidgets\" for Jupyter support')\n"
      ]
     },
     "metadata": {},
     "output_type": "display_data"
    },
    {
     "data": {
      "text/html": [
       "<pre style=\"white-space:pre;overflow-x:auto;line-height:normal;font-family:Menlo,'DejaVu Sans Mono',consolas,'Courier New',monospace\">c:\\Users\\LENOVO\\anaconda3\\envs\\prod_tools\\lib\\site-packages\\rich\\live.py:231: UserWarning: install \"ipywidgets\" for\n",
       "Jupyter support\n",
       "  warnings.warn('install \"ipywidgets\" for Jupyter support')\n",
       "</pre>\n"
      ],
      "text/plain": [
       "c:\\Users\\LENOVO\\anaconda3\\envs\\prod_tools\\lib\\site-packages\\rich\\live.py:231: UserWarning: install \"ipywidgets\" for\n",
       "Jupyter support\n",
       "  warnings.warn('install \"ipywidgets\" for Jupyter support')\n"
      ]
     },
     "metadata": {},
     "output_type": "display_data"
    },
    {
     "data": {
      "text/html": [
       "<pre style=\"white-space:pre;overflow-x:auto;line-height:normal;font-family:Menlo,'DejaVu Sans Mono',consolas,'Courier New',monospace\"></pre>\n"
      ],
      "text/plain": []
     },
     "metadata": {},
     "output_type": "display_data"
    },
    {
     "data": {
      "text/html": [
       "<pre style=\"white-space:pre;overflow-x:auto;line-height:normal;font-family:Menlo,'DejaVu Sans Mono',consolas,'Courier New',monospace\">c:\\Users\\LENOVO\\anaconda3\\envs\\prod_tools\\lib\\site-packages\\rich\\live.py:231: UserWarning: install \"ipywidgets\" for\n",
       "Jupyter support\n",
       "  warnings.warn('install \"ipywidgets\" for Jupyter support')\n",
       "</pre>\n"
      ],
      "text/plain": [
       "c:\\Users\\LENOVO\\anaconda3\\envs\\prod_tools\\lib\\site-packages\\rich\\live.py:231: UserWarning: install \"ipywidgets\" for\n",
       "Jupyter support\n",
       "  warnings.warn('install \"ipywidgets\" for Jupyter support')\n"
      ]
     },
     "metadata": {},
     "output_type": "display_data"
    },
    {
     "data": {
      "text/html": [
       "<pre style=\"white-space:pre;overflow-x:auto;line-height:normal;font-family:Menlo,'DejaVu Sans Mono',consolas,'Courier New',monospace\"></pre>\n"
      ],
      "text/plain": []
     },
     "metadata": {},
     "output_type": "display_data"
    },
    {
     "data": {
      "text/html": [
       "<pre style=\"white-space:pre;overflow-x:auto;line-height:normal;font-family:Menlo,'DejaVu Sans Mono',consolas,'Courier New',monospace\">c:\\Users\\LENOVO\\anaconda3\\envs\\prod_tools\\lib\\site-packages\\rich\\live.py:231: UserWarning: install \"ipywidgets\" for\n",
       "Jupyter support\n",
       "  warnings.warn('install \"ipywidgets\" for Jupyter support')\n",
       "</pre>\n"
      ],
      "text/plain": [
       "c:\\Users\\LENOVO\\anaconda3\\envs\\prod_tools\\lib\\site-packages\\rich\\live.py:231: UserWarning: install \"ipywidgets\" for\n",
       "Jupyter support\n",
       "  warnings.warn('install \"ipywidgets\" for Jupyter support')\n"
      ]
     },
     "metadata": {},
     "output_type": "display_data"
    },
    {
     "data": {
      "text/html": [
       "<pre style=\"white-space:pre;overflow-x:auto;line-height:normal;font-family:Menlo,'DejaVu Sans Mono',consolas,'Courier New',monospace\"></pre>\n"
      ],
      "text/plain": []
     },
     "metadata": {},
     "output_type": "display_data"
    },
    {
     "data": {
      "text/html": [
       "<pre style=\"white-space:pre;overflow-x:auto;line-height:normal;font-family:Menlo,'DejaVu Sans Mono',consolas,'Courier New',monospace\"></pre>\n"
      ],
      "text/plain": []
     },
     "metadata": {},
     "output_type": "display_data"
    },
    {
     "data": {
      "text/html": [
       "<pre style=\"white-space:pre;overflow-x:auto;line-height:normal;font-family:Menlo,'DejaVu Sans Mono',consolas,'Courier New',monospace\"></pre>\n"
      ],
      "text/plain": []
     },
     "metadata": {},
     "output_type": "display_data"
    },
    {
     "data": {
      "text/html": [
       "<pre style=\"white-space:pre;overflow-x:auto;line-height:normal;font-family:Menlo,'DejaVu Sans Mono',consolas,'Courier New',monospace\"></pre>\n"
      ],
      "text/plain": []
     },
     "metadata": {},
     "output_type": "display_data"
    }
   ],
   "source": [
    "ocr(\"2024-10-28-114-0008-003-04-9070-01.pdf\", \"ocr_pdf.pdf\")"
   ]
  },
  {
   "cell_type": "code",
   "execution_count": 11,
   "metadata": {},
   "outputs": [
    {
     "name": "stdout",
     "output_type": "stream",
     "text": [
      "{'video_found': True, 'audio_found': True, 'metadata': {'major_brand': 'mp42', 'minor_version': '0', 'compatible_brands': 'mp42isom'}, 'inputs': [{'streams': [{'input_number': 0, 'stream_number': 0, 'stream_type': 'video', 'language': None, 'default': True, 'size': [480, 360], 'bitrate': 495, 'fps': 25.0, 'codec_name': 'h264', 'profile': '(Baseline)'}, {'input_number': 0, 'stream_number': 1, 'stream_type': 'audio', 'language': None, 'default': True, 'fps': 44100, 'bitrate': 125}], 'input_number': 0}], 'duration': 100.28999999999999, 'bitrate': 622, 'start': 0.0, 'default_video_input_number': 0, 'default_video_stream_number': 0, 'video_codec_name': 'h264', 'video_profile': '(Baseline)', 'video_size': [480, 360], 'video_bitrate': 495, 'video_fps': 25.0, 'default_audio_input_number': 0, 'default_audio_stream_number': 1, 'audio_fps': 44100, 'audio_bitrate': 125, 'video_duration': 100.28999999999999, 'video_n_frames': 2507}\n",
      "c:\\Users\\LENOVO\\anaconda3\\envs\\prod_tools\\lib\\site-packages\\imageio_ffmpeg\\binaries\\ffmpeg-win64-v4.2.2.exe -i WhatsApp Video 2025-01-15 at 8.22.03 PM.mp4 -loglevel error -f image2pipe -vf scale=480:360 -sws_flags bicubic -pix_fmt rgb24 -vcodec rawvideo -\n",
      "MoviePy - Writing audio in extracted_audio.mp3\n"
     ]
    },
    {
     "name": "stderr",
     "output_type": "stream",
     "text": [
      "                                                                     "
     ]
    },
    {
     "name": "stdout",
     "output_type": "stream",
     "text": [
      "MoviePy - Done.\n"
     ]
    },
    {
     "name": "stderr",
     "output_type": "stream",
     "text": [
      "\r"
     ]
    }
   ],
   "source": [
    "from moviepy import VideoFileClip\n",
    "\n",
    "video = VideoFileClip(\"WhatsApp Video 2025-01-15 at 8.22.03 PM.mp4\")\n",
    "audio = video.audio\n",
    "audio.write_audiofile(\"extracted_audio.mp3\")"
   ]
  },
  {
   "cell_type": "code",
   "execution_count": 18,
   "metadata": {},
   "outputs": [],
   "source": [
    "import speech_recognition as sr\n",
    "\n",
    "recognizer = sr.Recognizer()\n",
    "audio_file = sr.AudioFile(\"extracted_audio.wav\")\n",
    "\n",
    "with audio_file as source:\n",
    "    audio = recognizer.record(source, duration=7)\n",
    "\n",
    "# print(text)\n"
   ]
  },
  {
   "cell_type": "code",
   "execution_count": 19,
   "metadata": {},
   "outputs": [
    {
     "ename": "UnknownValueError",
     "evalue": "",
     "output_type": "error",
     "traceback": [
      "\u001b[1;31m---------------------------------------------------------------------------\u001b[0m",
      "\u001b[1;31mUnknownValueError\u001b[0m                         Traceback (most recent call last)",
      "Cell \u001b[1;32mIn[19], line 1\u001b[0m\n\u001b[1;32m----> 1\u001b[0m \u001b[43mrecognizer\u001b[49m\u001b[38;5;241;43m.\u001b[39;49m\u001b[43mrecognize_google\u001b[49m\u001b[43m(\u001b[49m\u001b[43maudio\u001b[49m\u001b[43m)\u001b[49m\n",
      "File \u001b[1;32mc:\\Users\\LENOVO\\anaconda3\\envs\\prod_tools\\lib\\site-packages\\speech_recognition\\recognizers\\google.py:262\u001b[0m, in \u001b[0;36mrecognize_legacy\u001b[1;34m(recognizer, audio_data, key, language, pfilter, show_all, with_confidence, endpoint)\u001b[0m\n\u001b[0;32m    255\u001b[0m response_text \u001b[38;5;241m=\u001b[39m obtain_transcription(\n\u001b[0;32m    256\u001b[0m     request, timeout\u001b[38;5;241m=\u001b[39mrecognizer\u001b[38;5;241m.\u001b[39moperation_timeout\n\u001b[0;32m    257\u001b[0m )\n\u001b[0;32m    259\u001b[0m output_parser \u001b[38;5;241m=\u001b[39m OutputParser(\n\u001b[0;32m    260\u001b[0m     show_all\u001b[38;5;241m=\u001b[39mshow_all, with_confidence\u001b[38;5;241m=\u001b[39mwith_confidence\n\u001b[0;32m    261\u001b[0m )\n\u001b[1;32m--> 262\u001b[0m \u001b[38;5;28;01mreturn\u001b[39;00m \u001b[43moutput_parser\u001b[49m\u001b[38;5;241;43m.\u001b[39;49m\u001b[43mparse\u001b[49m\u001b[43m(\u001b[49m\u001b[43mresponse_text\u001b[49m\u001b[43m)\u001b[49m\n",
      "File \u001b[1;32mc:\\Users\\LENOVO\\anaconda3\\envs\\prod_tools\\lib\\site-packages\\speech_recognition\\recognizers\\google.py:134\u001b[0m, in \u001b[0;36mOutputParser.parse\u001b[1;34m(self, response_text)\u001b[0m\n\u001b[0;32m    133\u001b[0m \u001b[38;5;28;01mdef\u001b[39;00m \u001b[38;5;21mparse\u001b[39m(\u001b[38;5;28mself\u001b[39m, response_text: \u001b[38;5;28mstr\u001b[39m):\n\u001b[1;32m--> 134\u001b[0m     actual_result \u001b[38;5;241m=\u001b[39m \u001b[38;5;28;43mself\u001b[39;49m\u001b[38;5;241;43m.\u001b[39;49m\u001b[43mconvert_to_result\u001b[49m\u001b[43m(\u001b[49m\u001b[43mresponse_text\u001b[49m\u001b[43m)\u001b[49m\n\u001b[0;32m    135\u001b[0m     \u001b[38;5;28;01mif\u001b[39;00m \u001b[38;5;28mself\u001b[39m\u001b[38;5;241m.\u001b[39mshow_all:\n\u001b[0;32m    136\u001b[0m         \u001b[38;5;28;01mreturn\u001b[39;00m actual_result\n",
      "File \u001b[1;32mc:\\Users\\LENOVO\\anaconda3\\envs\\prod_tools\\lib\\site-packages\\speech_recognition\\recognizers\\google.py:183\u001b[0m, in \u001b[0;36mOutputParser.convert_to_result\u001b[1;34m(response_text)\u001b[0m\n\u001b[0;32m    181\u001b[0m             \u001b[38;5;28;01mraise\u001b[39;00m UnknownValueError()\n\u001b[0;32m    182\u001b[0m         \u001b[38;5;28;01mreturn\u001b[39;00m result[\u001b[38;5;241m0\u001b[39m]\n\u001b[1;32m--> 183\u001b[0m \u001b[38;5;28;01mraise\u001b[39;00m UnknownValueError()\n",
      "\u001b[1;31mUnknownValueError\u001b[0m: "
     ]
    }
   ],
   "source": [
    "recognizer.recognize_google(audio)"
   ]
  },
  {
   "cell_type": "code",
   "execution_count": 2,
   "metadata": {},
   "outputs": [
    {
     "name": "stdout",
     "output_type": "stream",
     "text": [
      "Chunk 0: Mahkamah Agung akan memberhentikan sementara mantan ketua pengadilan negeri Surabaya Rudi suparmono yang ditetapkan sebagai tersangka dalam kasus dugaan suap vonis bebas Ronald tanur terhadap 3 hakim pengadilan negeri Surabaya\n",
      "Chunk 1: Ketua Mahkamah Agung Hakim Agung Sunarto Akan mengirim surat pemberhentian sementara ketua pengadilan negeri PN Surabaya Tahun 2022 2024 Rudi suparmono kepada presiden Prabowo\n",
      "Chunk 2: Rudi suparmono ditetapkan sebagai tersangka oleh kejaksaan agung dalam dugaan suap karena menunjuk 3 Hakim yang menjatuhkan vonis bebas pelaku pembunuhan Gregorius Ronald\n",
      "Chunk 3: juru bicara ma Hakim Agung Yanto menyatakan bahwa usulan tersebut akan disampaikan setelah pihak yang menerima surat resmi terkait penahanan Rudi suparmono dari 7\n",
      "Chunk 4: Ma juga meminta aparat pengadilan di seluruh Indonesia untuk tetap berintegritas dan menjaga profesiona\n",
      "Chunk 5: ia meminta agar aparat pengadilan menjauhi perbuatan ter\n",
      "Chunk 6: jubir Emang menyatakan pimpinan Ma menghormati proses hukum yang tengah bergulir di Jaksa Agung muda bidang pidana khusus jampidsus kejagung\n",
      "Chunk 7: ketua MA mendorong agar perkara itu tetap diusut dengan mengedepankan hukum yang berlaku adil transparan dan\n",
      "Chunk 8: sebelumnya mantan ketua PN Surabaya Rudi suparmono ditekan sebagai tersangka dalam kasus dugaan suap vonis bebas Ronald tanur terhadap 3 hakim PN Surabaya\n",
      "Chunk 9: Rudi ditangkap di Palembang Sumatera Selatan dan dibawa ke Jakarta\n",
      "Chunk 10: kini Rudi telah ditahan penyidik di Rutan Salemba selama 20 hari ke\n"
     ]
    }
   ],
   "source": [
    "import speech_recognition as sr\n",
    "from pydub import AudioSegment\n",
    "from pydub.silence import split_on_silence\n",
    "from concurrent.futures import ThreadPoolExecutor\n",
    "\n",
    "def transcribe_chunk(chunk, recognizer, language=\"id-ID\"):\n",
    "    with sr.AudioFile(chunk) as source:\n",
    "        audio_data = recognizer.record(source)\n",
    "        try:\n",
    "            text = recognizer.recognize_google(audio_data, language=language)\n",
    "            return text\n",
    "        except sr.UnknownValueError:\n",
    "            return \"Google Web Speech API could not understand audio\"\n",
    "        except sr.RequestError as e:\n",
    "            return f\"Could not request results from Google Web Speech API; {e}\"\n",
    "\n",
    "recognizer = sr.Recognizer()\n",
    "recognizer.energy_threshold = 50 # Adjust this value as needed\n",
    "\n",
    "sound = AudioSegment.from_wav(\"extracted_audio.wav\")\n",
    "chunks = split_on_silence(sound, min_silence_len=500, silence_thresh=sound.dBFS-14)\n",
    "\n",
    "chunk_files = []\n",
    "for i, chunk in enumerate(chunks):\n",
    "    chunk_file = f\"chunk{i}.wav\"\n",
    "    chunk.export(chunk_file, format=\"wav\")\n",
    "    chunk_files.append((i, chunk_file))\n",
    "\n",
    "with ThreadPoolExecutor() as executor:\n",
    "    results = list(executor.map(lambda chunk: (chunk[0], transcribe_chunk(chunk[1], recognizer)), chunk_files))\n",
    "\n",
    "# Sort results based on chunk index\n",
    "results.sort(key=lambda x: x[0])\n",
    "\n",
    "# Print the transcribed text in order\n",
    "for index, text in results:\n",
    "    print(f\"Chunk {index}: {text}\")\n"
   ]
  },
  {
   "cell_type": "code",
   "execution_count": 3,
   "metadata": {},
   "outputs": [],
   "source": [
    "import PIL\n"
   ]
  },
  {
   "cell_type": "code",
   "execution_count": 6,
   "metadata": {},
   "outputs": [
    {
     "data": {
      "text/plain": [
       "True"
      ]
     },
     "execution_count": 6,
     "metadata": {},
     "output_type": "execute_result"
    }
   ],
   "source": [
    "image = cv.imread(\"2024-10-12-560-0004-006.jpg\")\n",
    "cv.imwrite(\"2024-10-12-560-0004-006.png\", image)"
   ]
  },
  {
   "cell_type": "code",
   "execution_count": 7,
   "metadata": {},
   "outputs": [],
   "source": [
    "from PIL import Image"
   ]
  },
  {
   "cell_type": "code",
   "execution_count": null,
   "metadata": {},
   "outputs": [],
   "source": []
  },
  {
   "cell_type": "code",
   "execution_count": 24,
   "metadata": {},
   "outputs": [],
   "source": [
    "import cv2 as cv\n",
    "from PIL import Image\n",
    "\n",
    "image = cv.imread(\"2024-10-12-560-0004-006.jpg\")\n",
    "pil_image = Image.fromarray(cv.cvtColor(image, cv.COLOR_BGR2RGB))\n",
    "\n",
    "img = pil_image.convert(\"P\", palette=Image.ADAPTIVE, colors=32)\n",
    "img.save(\"pil.png\", optimize=True)"
   ]
  },
  {
   "cell_type": "code",
   "execution_count": 1,
   "metadata": {},
   "outputs": [
    {
     "name": "stdout",
     "output_type": "stream",
     "text": [
      "username: LENOVO\n",
      "pc: LAPTOP-G6OPPMPT\n"
     ]
    }
   ],
   "source": [
    "import os\n",
    "import socket\n",
    "print(f\"username: {os.getlogin()}\")\n",
    "print(f\"pc: {socket.gethostname()}\")"
   ]
  },
  {
   "cell_type": "code",
   "execution_count": 1,
   "metadata": {},
   "outputs": [],
   "source": [
    "import tensorflow as tf"
   ]
  },
  {
   "cell_type": "code",
   "execution_count": 2,
   "metadata": {},
   "outputs": [],
   "source": [
    "model = tf.keras.models.load_model(\"./base/model/bwfc_model(6).keras\")"
   ]
  },
  {
   "cell_type": "code",
   "execution_count": 16,
   "metadata": {},
   "outputs": [
    {
     "name": "stdout",
     "output_type": "stream",
     "text": [
      "\u001b[1m1/1\u001b[0m \u001b[32m━━━━━━━━━━━━━━━━━━━━\u001b[0m\u001b[37m\u001b[0m \u001b[1m0s\u001b[0m 153ms/step\n"
     ]
    }
   ],
   "source": [
    "import cv2 as cv\n",
    "import numpy as np\n",
    "\n",
    "img_test = cv.imread(\"./2024-08-14-032-0001-008-02-0901-01.jpg\")\n",
    "img_test = cv.resize(img_test, (224,224))\n",
    "img_test = img_test / 255\n",
    "img_test = np.expand_dims(img_test, axis=0)\n",
    "predictions = model.predict(img_test)"
   ]
  },
  {
   "cell_type": "code",
   "execution_count": 17,
   "metadata": {},
   "outputs": [
    {
     "name": "stdout",
     "output_type": "stream",
     "text": [
      "0.212402\n"
     ]
    }
   ],
   "source": [
    "print(predictions[0][0])"
   ]
  },
  {
   "cell_type": "code",
   "execution_count": null,
   "metadata": {},
   "outputs": [],
   "source": []
  }
 ],
 "metadata": {
  "kernelspec": {
   "display_name": "prod_tools",
   "language": "python",
   "name": "python3"
  },
  "language_info": {
   "codemirror_mode": {
    "name": "ipython",
    "version": 3
   },
   "file_extension": ".py",
   "mimetype": "text/x-python",
   "name": "python",
   "nbconvert_exporter": "python",
   "pygments_lexer": "ipython3",
   "version": "3.10.15"
  }
 },
 "nbformat": 4,
 "nbformat_minor": 2
}
